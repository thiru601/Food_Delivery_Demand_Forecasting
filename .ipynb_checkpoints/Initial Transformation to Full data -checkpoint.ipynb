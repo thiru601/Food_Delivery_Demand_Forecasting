{
 "cells": [
  {
   "cell_type": "code",
   "execution_count": 106,
   "metadata": {},
   "outputs": [
    {
     "name": "stdout",
     "output_type": "stream",
     "text": [
      "(456548, 13)\n",
      "(32573, 12)\n"
     ]
    }
   ],
   "source": [
    "import pandas as pd\n",
    "center_info=pd.read_csv(\"/Users/Thiru/Desktop/Pricing & Revenue Mgmt./Food_Delivery_Project/train_GzS76OK/fulfilment_center_info.csv\")\n",
    "meal_info=pd.read_csv(\"/Users/Thiru/Desktop/Pricing & Revenue Mgmt./Food_Delivery_Project/train_GzS76OK/meal_info.csv\")\n",
    "train=pd.read_csv(\"/Users/Thiru/Desktop/Pricing & Revenue Mgmt./Food_Delivery_Project/train_GzS76OK/train.csv\")\n",
    "Train=train.merge(meal_info,left_on=['meal_id'],right_on=['meal_id'])\n",
    "train_full=Train.merge(center_info,left_on=['center_id'],right_on=['center_id'])\\\n",
    "            .drop(columns=['center_id','meal_id'])\n",
    "test=pd.read_csv(\"/Users/Thiru/Desktop/Pricing & Revenue Mgmt./Food_Delivery_Project/test_QoiMO9B.csv\")\n",
    "Test=test.merge(meal_info,left_on=['meal_id'],right_on=['meal_id'])\n",
    "test_full=Test.merge(center_info,left_on=['center_id'],right_on=['center_id'])\\\n",
    "            .drop(columns=['center_id','meal_id'])\n",
    "print(train_full.shape)\n",
    "print(test_full.shape)"
   ]
  },
  {
   "cell_type": "code",
   "execution_count": 107,
   "metadata": {},
   "outputs": [],
   "source": [
    "cleanup_region = {\"region_code\":     {23:\"region1\" , 34:\"region2\",35:\"region3\",56:\"region4\",\n",
    "                                    71:\"region5\",77:\"region6\",85:\"region7\",93:\"region8\"}}\n",
    "cleanup_city = {\"city_code\":     {456:\"city1\", 461:\"city2\", 473:\"city3\", 478:\"city4\", 485:\"city5\", 515:\"city6\", \n",
    "                                  517:\"city7\", 522:\"city8\", 526:\"city9\", 541:\"city10\", 553:\"city11\", 556:\"city12\", \n",
    "                                  561:\"city13\",562:\"city14\", 576:\"city15\", 577:\"city16\", 579:\"city17\", 590:\"city18\", \n",
    "                                  593:\"city19\", 596:\"city20\", 599:\"city21\", 602:\"city22\", 604:\"city23\", 609:\"city24\", \n",
    "                                  614:\"city25\", 615:\"city26\",620:\"city27\", 628:\"city28\", 632:\"city29\", 638:\"city30\", \n",
    "                                  647:\"city31\", 648:\"city32\", 649:\"city33\", 651:\"city34\", 654:\"city35\", 658:\"city36\", \n",
    "                                  659:\"city37\", 675:\"city38\", 676:\"city39\",679:\"city40\", 680:\"city41\", 683:\"city42\", \n",
    "                                  685:\"city43\", 693:\"city44\", 695:\"city45\", 698:\"city46\", 699:\"city47\",700:\"city48\", \n",
    "                                  702:\"city49\", 703:\"city50\", 713:\"city51\"}}\n",
    "train_full.replace(cleanup_region, inplace=True)\n",
    "train_full.replace(cleanup_city, inplace=True)\n",
    "test_full.replace(cleanup_region, inplace=True)\n",
    "test_full.replace(cleanup_city, inplace=True)"
   ]
  },
  {
   "cell_type": "code",
   "execution_count": 108,
   "metadata": {},
   "outputs": [],
   "source": [
    "train_full['category'] = train_full['category'].astype(\"category\")\n",
    "train_full['cuisine'] = train_full['cuisine'].astype(\"category\")\n",
    "train_full['city_code'] = train_full['city_code'].astype(\"category\")\n",
    "train_full['region_code'] = train_full['region_code'].astype(\"category\")\n",
    "train_full['center_type'] = train_full['center_type'].astype(\"category\")\n",
    "\n",
    "test_full['category'] = test_full['category'].astype(\"category\")\n",
    "test_full['cuisine'] = test_full['cuisine'].astype(\"category\")\n",
    "test_full['city_code'] = test_full['city_code'].astype(\"category\")\n",
    "test_full['region_code'] = test_full['region_code'].astype(\"category\")\n",
    "test_full['center_type'] = test_full['center_type'].astype(\"category\")"
   ]
  },
  {
   "cell_type": "code",
   "execution_count": 109,
   "metadata": {},
   "outputs": [
    {
     "name": "stdout",
     "output_type": "stream",
     "text": [
      "Index(['Beverages', 'Biryani', 'Desert', 'Extras', 'Fish', 'Other Snacks',\n",
      "       'Pasta', 'Pizza', 'Rice Bowl', 'Salad', 'Sandwich', 'Seafood', 'Soup',\n",
      "       'Starters'],\n",
      "      dtype='object')\n",
      "Index(['Continental', 'Indian', 'Italian', 'Thai'], dtype='object')\n",
      "Index(['city1', 'city10', 'city11', 'city12', 'city13', 'city14', 'city15',\n",
      "       'city16', 'city17', 'city18', 'city19', 'city2', 'city20', 'city21',\n",
      "       'city22', 'city23', 'city24', 'city25', 'city26', 'city27', 'city28',\n",
      "       'city29', 'city3', 'city30', 'city31', 'city32', 'city33', 'city34',\n",
      "       'city35', 'city36', 'city37', 'city38', 'city39', 'city4', 'city40',\n",
      "       'city41', 'city42', 'city43', 'city44', 'city45', 'city46', 'city47',\n",
      "       'city48', 'city49', 'city5', 'city50', 'city51', 'city6', 'city7',\n",
      "       'city8', 'city9'],\n",
      "      dtype='object')\n",
      "Index(['region1', 'region2', 'region3', 'region4', 'region5', 'region6',\n",
      "       'region7', 'region8'],\n",
      "      dtype='object')\n",
      "Index(['TYPE_A', 'TYPE_B', 'TYPE_C'], dtype='object')\n"
     ]
    }
   ],
   "source": [
    "print(train_full['category'].cat.categories)\n",
    "print(train_full['cuisine'].cat.categories)\n",
    "print(train_full['city_code'].cat.categories)\n",
    "print(train_full['region_code'].cat.categories)\n",
    "print(train_full['center_type'].cat.categories)"
   ]
  },
  {
   "cell_type": "code",
   "execution_count": 110,
   "metadata": {},
   "outputs": [],
   "source": [
    "category_dummy=pd.get_dummies(train_full['category'])\n",
    "cuisine_dummy=pd.get_dummies(train_full['cuisine'])\n",
    "city_code_dummy=pd.get_dummies(train_full['city_code'])\n",
    "region_code_dummy=pd.get_dummies(train_full['region_code'])\n",
    "center_type_dummy=pd.get_dummies(train_full['center_type'])\n",
    "\n",
    "category_dummy=pd.get_dummies(test_full['category'])\n",
    "cuisine_dummy=pd.get_dummies(test_full['cuisine'])\n",
    "city_code_dummy=pd.get_dummies(test_full['city_code'])\n",
    "region_code_dummy=pd.get_dummies(test_full['region_code'])\n",
    "center_type_dummy=pd.get_dummies(test_full['center_type'])"
   ]
  },
  {
   "cell_type": "code",
   "execution_count": 111,
   "metadata": {},
   "outputs": [
    {
     "name": "stdout",
     "output_type": "stream",
     "text": [
      "(456548, 93)\n",
      "(32573, 92)\n"
     ]
    }
   ],
   "source": [
    "train_full=pd.concat([train_full,category_dummy],axis=1)\n",
    "train_full=pd.concat([train_full,cuisine_dummy],axis=1)\n",
    "train_full=pd.concat([train_full,city_code_dummy],axis=1)\n",
    "train_full=pd.concat([train_full,region_code_dummy],axis=1)\n",
    "train_full=pd.concat([train_full,center_type_dummy],axis=1)\n",
    "print(train_full.shape)\n",
    "\n",
    "test_full=pd.concat([test_full,category_dummy],axis=1)\n",
    "test_full=pd.concat([test_full,cuisine_dummy],axis=1)\n",
    "test_full=pd.concat([test_full,city_code_dummy],axis=1)\n",
    "test_full=pd.concat([test_full,region_code_dummy],axis=1)\n",
    "test_full=pd.concat([test_full,center_type_dummy],axis=1)\n",
    "print(test_full.shape)"
   ]
  },
  {
   "cell_type": "code",
   "execution_count": 112,
   "metadata": {},
   "outputs": [
    {
     "name": "stdout",
     "output_type": "stream",
     "text": [
      "(456548, 88)\n",
      "(32573, 87)\n"
     ]
    }
   ],
   "source": [
    "train_full=train_full.drop(columns=['cuisine','region_code','category','center_type','city_code'])\n",
    "print(train_full.shape)\n",
    "test_full=test_full.drop(columns=['cuisine','region_code','category','center_type','city_code'])\n",
    "print(test_full.shape)"
   ]
  },
  {
   "cell_type": "code",
   "execution_count": 116,
   "metadata": {},
   "outputs": [],
   "source": [
    "train_full.to_csv('train_full.csv',index=False)\n",
    "test_full.to_csv('test_full.csv',index=False)"
   ]
  }
 ],
 "metadata": {
  "kernelspec": {
   "display_name": "Python 3",
   "language": "python",
   "name": "python3"
  },
  "language_info": {
   "codemirror_mode": {
    "name": "ipython",
    "version": 3
   },
   "file_extension": ".py",
   "mimetype": "text/x-python",
   "name": "python",
   "nbconvert_exporter": "python",
   "pygments_lexer": "ipython3",
   "version": "3.7.4"
  }
 },
 "nbformat": 4,
 "nbformat_minor": 2
}
