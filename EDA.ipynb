{
 "cells": [
  {
   "cell_type": "code",
   "execution_count": 1,
   "metadata": {},
   "outputs": [],
   "source": [
    "import pandas as pd\n",
    "import numpy as np\n",
    "import seaborn as sns"
   ]
  },
  {
   "cell_type": "code",
   "execution_count": 18,
   "metadata": {},
   "outputs": [],
   "source": [
    "df_1 = pd.read_csv('D:/MSBA_US/Spring Semester/Pricing/project/train_grouped.csv')\n",
    "df= pd.read_csv('D:/MSBA_US/Spring Semester/Pricing/project/train_full.csv')"
   ]
  },
  {
   "cell_type": "code",
   "execution_count": 19,
   "metadata": {},
   "outputs": [
    {
     "data": {
      "text/html": [
       "<div>\n",
       "<style scoped>\n",
       "    .dataframe tbody tr th:only-of-type {\n",
       "        vertical-align: middle;\n",
       "    }\n",
       "\n",
       "    .dataframe tbody tr th {\n",
       "        vertical-align: top;\n",
       "    }\n",
       "\n",
       "    .dataframe thead th {\n",
       "        text-align: right;\n",
       "    }\n",
       "</style>\n",
       "<table border=\"1\" class=\"dataframe\">\n",
       "  <thead>\n",
       "    <tr style=\"text-align: right;\">\n",
       "      <th></th>\n",
       "      <th>id</th>\n",
       "      <th>week</th>\n",
       "      <th>checkout_price</th>\n",
       "      <th>base_price</th>\n",
       "      <th>emailer_for_promotion</th>\n",
       "      <th>homepage_featured</th>\n",
       "      <th>num_orders</th>\n",
       "      <th>op_area</th>\n",
       "      <th>Beverages</th>\n",
       "      <th>Biryani</th>\n",
       "      <th>...</th>\n",
       "      <th>region2</th>\n",
       "      <th>region3</th>\n",
       "      <th>region4</th>\n",
       "      <th>region5</th>\n",
       "      <th>region6</th>\n",
       "      <th>region7</th>\n",
       "      <th>region8</th>\n",
       "      <th>TYPE_A</th>\n",
       "      <th>TYPE_B</th>\n",
       "      <th>TYPE_C</th>\n",
       "    </tr>\n",
       "  </thead>\n",
       "  <tbody>\n",
       "    <tr>\n",
       "      <th>0</th>\n",
       "      <td>1379560</td>\n",
       "      <td>1</td>\n",
       "      <td>136.83</td>\n",
       "      <td>152.29</td>\n",
       "      <td>0</td>\n",
       "      <td>0</td>\n",
       "      <td>177</td>\n",
       "      <td>2.0</td>\n",
       "      <td>1.0</td>\n",
       "      <td>0.0</td>\n",
       "      <td>...</td>\n",
       "      <td>0.0</td>\n",
       "      <td>0.0</td>\n",
       "      <td>1.0</td>\n",
       "      <td>0.0</td>\n",
       "      <td>0.0</td>\n",
       "      <td>0.0</td>\n",
       "      <td>0.0</td>\n",
       "      <td>0.0</td>\n",
       "      <td>0.0</td>\n",
       "      <td>1.0</td>\n",
       "    </tr>\n",
       "    <tr>\n",
       "      <th>1</th>\n",
       "      <td>1018704</td>\n",
       "      <td>2</td>\n",
       "      <td>135.83</td>\n",
       "      <td>152.29</td>\n",
       "      <td>0</td>\n",
       "      <td>0</td>\n",
       "      <td>323</td>\n",
       "      <td>2.0</td>\n",
       "      <td>1.0</td>\n",
       "      <td>0.0</td>\n",
       "      <td>...</td>\n",
       "      <td>0.0</td>\n",
       "      <td>0.0</td>\n",
       "      <td>1.0</td>\n",
       "      <td>0.0</td>\n",
       "      <td>0.0</td>\n",
       "      <td>0.0</td>\n",
       "      <td>0.0</td>\n",
       "      <td>0.0</td>\n",
       "      <td>0.0</td>\n",
       "      <td>1.0</td>\n",
       "    </tr>\n",
       "    <tr>\n",
       "      <th>2</th>\n",
       "      <td>1196273</td>\n",
       "      <td>3</td>\n",
       "      <td>132.92</td>\n",
       "      <td>133.92</td>\n",
       "      <td>0</td>\n",
       "      <td>0</td>\n",
       "      <td>96</td>\n",
       "      <td>2.0</td>\n",
       "      <td>1.0</td>\n",
       "      <td>0.0</td>\n",
       "      <td>...</td>\n",
       "      <td>0.0</td>\n",
       "      <td>0.0</td>\n",
       "      <td>1.0</td>\n",
       "      <td>0.0</td>\n",
       "      <td>0.0</td>\n",
       "      <td>0.0</td>\n",
       "      <td>0.0</td>\n",
       "      <td>0.0</td>\n",
       "      <td>0.0</td>\n",
       "      <td>1.0</td>\n",
       "    </tr>\n",
       "    <tr>\n",
       "      <th>3</th>\n",
       "      <td>1116527</td>\n",
       "      <td>4</td>\n",
       "      <td>135.86</td>\n",
       "      <td>134.86</td>\n",
       "      <td>0</td>\n",
       "      <td>0</td>\n",
       "      <td>163</td>\n",
       "      <td>2.0</td>\n",
       "      <td>1.0</td>\n",
       "      <td>0.0</td>\n",
       "      <td>...</td>\n",
       "      <td>0.0</td>\n",
       "      <td>0.0</td>\n",
       "      <td>1.0</td>\n",
       "      <td>0.0</td>\n",
       "      <td>0.0</td>\n",
       "      <td>0.0</td>\n",
       "      <td>0.0</td>\n",
       "      <td>0.0</td>\n",
       "      <td>0.0</td>\n",
       "      <td>1.0</td>\n",
       "    </tr>\n",
       "    <tr>\n",
       "      <th>4</th>\n",
       "      <td>1343872</td>\n",
       "      <td>5</td>\n",
       "      <td>146.50</td>\n",
       "      <td>147.50</td>\n",
       "      <td>0</td>\n",
       "      <td>0</td>\n",
       "      <td>215</td>\n",
       "      <td>2.0</td>\n",
       "      <td>1.0</td>\n",
       "      <td>0.0</td>\n",
       "      <td>...</td>\n",
       "      <td>0.0</td>\n",
       "      <td>0.0</td>\n",
       "      <td>1.0</td>\n",
       "      <td>0.0</td>\n",
       "      <td>0.0</td>\n",
       "      <td>0.0</td>\n",
       "      <td>0.0</td>\n",
       "      <td>0.0</td>\n",
       "      <td>0.0</td>\n",
       "      <td>1.0</td>\n",
       "    </tr>\n",
       "  </tbody>\n",
       "</table>\n",
       "<p>5 rows × 88 columns</p>\n",
       "</div>"
      ],
      "text/plain": [
       "        id  week  checkout_price  base_price  emailer_for_promotion  \\\n",
       "0  1379560     1          136.83      152.29                      0   \n",
       "1  1018704     2          135.83      152.29                      0   \n",
       "2  1196273     3          132.92      133.92                      0   \n",
       "3  1116527     4          135.86      134.86                      0   \n",
       "4  1343872     5          146.50      147.50                      0   \n",
       "\n",
       "   homepage_featured  num_orders  op_area  Beverages  Biryani   ...    \\\n",
       "0                  0         177      2.0        1.0      0.0   ...     \n",
       "1                  0         323      2.0        1.0      0.0   ...     \n",
       "2                  0          96      2.0        1.0      0.0   ...     \n",
       "3                  0         163      2.0        1.0      0.0   ...     \n",
       "4                  0         215      2.0        1.0      0.0   ...     \n",
       "\n",
       "   region2  region3  region4  region5  region6  region7  region8  TYPE_A  \\\n",
       "0      0.0      0.0      1.0      0.0      0.0      0.0      0.0     0.0   \n",
       "1      0.0      0.0      1.0      0.0      0.0      0.0      0.0     0.0   \n",
       "2      0.0      0.0      1.0      0.0      0.0      0.0      0.0     0.0   \n",
       "3      0.0      0.0      1.0      0.0      0.0      0.0      0.0     0.0   \n",
       "4      0.0      0.0      1.0      0.0      0.0      0.0      0.0     0.0   \n",
       "\n",
       "   TYPE_B  TYPE_C  \n",
       "0     0.0     1.0  \n",
       "1     0.0     1.0  \n",
       "2     0.0     1.0  \n",
       "3     0.0     1.0  \n",
       "4     0.0     1.0  \n",
       "\n",
       "[5 rows x 88 columns]"
      ]
     },
     "execution_count": 19,
     "metadata": {},
     "output_type": "execute_result"
    }
   ],
   "source": [
    "df.head(5)"
   ]
  },
  {
   "cell_type": "code",
   "execution_count": 40,
   "metadata": {},
   "outputs": [
    {
     "data": {
      "text/html": [
       "<div>\n",
       "<style scoped>\n",
       "    .dataframe tbody tr th:only-of-type {\n",
       "        vertical-align: middle;\n",
       "    }\n",
       "\n",
       "    .dataframe tbody tr th {\n",
       "        vertical-align: top;\n",
       "    }\n",
       "\n",
       "    .dataframe thead th {\n",
       "        text-align: right;\n",
       "    }\n",
       "</style>\n",
       "<table border=\"1\" class=\"dataframe\">\n",
       "  <thead>\n",
       "    <tr style=\"text-align: right;\">\n",
       "      <th></th>\n",
       "      <th>week</th>\n",
       "      <th>checkout_price</th>\n",
       "      <th>base_price</th>\n",
       "      <th>num_orders</th>\n",
       "      <th>emailer_for_promotion</th>\n",
       "      <th>homepage_featured</th>\n",
       "      <th>op_area</th>\n",
       "      <th>Beverages</th>\n",
       "      <th>Biryani</th>\n",
       "      <th>Desert</th>\n",
       "      <th>...</th>\n",
       "      <th>region2</th>\n",
       "      <th>region3</th>\n",
       "      <th>region4</th>\n",
       "      <th>region5</th>\n",
       "      <th>region6</th>\n",
       "      <th>region7</th>\n",
       "      <th>region8</th>\n",
       "      <th>TYPE_A</th>\n",
       "      <th>TYPE_B</th>\n",
       "      <th>TYPE_C</th>\n",
       "    </tr>\n",
       "  </thead>\n",
       "  <tbody>\n",
       "    <tr>\n",
       "      <th>0</th>\n",
       "      <td>1</td>\n",
       "      <td>965809.26</td>\n",
       "      <td>1018365.32</td>\n",
       "      <td>792261</td>\n",
       "      <td>357</td>\n",
       "      <td>414</td>\n",
       "      <td>4.079877</td>\n",
       "      <td>55.0</td>\n",
       "      <td>4.0</td>\n",
       "      <td>15.0</td>\n",
       "      <td>...</td>\n",
       "      <td>45.0</td>\n",
       "      <td>4.0</td>\n",
       "      <td>99.0</td>\n",
       "      <td>3.0</td>\n",
       "      <td>44.0</td>\n",
       "      <td>17.0</td>\n",
       "      <td>2.0</td>\n",
       "      <td>128.0</td>\n",
       "      <td>45.0</td>\n",
       "      <td>45.0</td>\n",
       "    </tr>\n",
       "    <tr>\n",
       "      <th>1</th>\n",
       "      <td>2</td>\n",
       "      <td>938092.43</td>\n",
       "      <td>1005779.20</td>\n",
       "      <td>787084</td>\n",
       "      <td>621</td>\n",
       "      <td>514</td>\n",
       "      <td>4.085014</td>\n",
       "      <td>55.0</td>\n",
       "      <td>8.0</td>\n",
       "      <td>17.0</td>\n",
       "      <td>...</td>\n",
       "      <td>48.0</td>\n",
       "      <td>4.0</td>\n",
       "      <td>96.0</td>\n",
       "      <td>3.0</td>\n",
       "      <td>45.0</td>\n",
       "      <td>16.0</td>\n",
       "      <td>2.0</td>\n",
       "      <td>127.0</td>\n",
       "      <td>45.0</td>\n",
       "      <td>46.0</td>\n",
       "    </tr>\n",
       "    <tr>\n",
       "      <th>2</th>\n",
       "      <td>3</td>\n",
       "      <td>948560.28</td>\n",
       "      <td>1008352.05</td>\n",
       "      <td>695262</td>\n",
       "      <td>104</td>\n",
       "      <td>316</td>\n",
       "      <td>4.078682</td>\n",
       "      <td>58.0</td>\n",
       "      <td>9.0</td>\n",
       "      <td>17.0</td>\n",
       "      <td>...</td>\n",
       "      <td>48.0</td>\n",
       "      <td>3.0</td>\n",
       "      <td>97.0</td>\n",
       "      <td>3.0</td>\n",
       "      <td>44.0</td>\n",
       "      <td>16.0</td>\n",
       "      <td>2.0</td>\n",
       "      <td>127.0</td>\n",
       "      <td>45.0</td>\n",
       "      <td>45.0</td>\n",
       "    </tr>\n",
       "    <tr>\n",
       "      <th>3</th>\n",
       "      <td>4</td>\n",
       "      <td>953833.69</td>\n",
       "      <td>1006446.90</td>\n",
       "      <td>743529</td>\n",
       "      <td>0</td>\n",
       "      <td>292</td>\n",
       "      <td>4.087747</td>\n",
       "      <td>54.0</td>\n",
       "      <td>9.0</td>\n",
       "      <td>13.0</td>\n",
       "      <td>...</td>\n",
       "      <td>47.0</td>\n",
       "      <td>3.0</td>\n",
       "      <td>95.0</td>\n",
       "      <td>2.0</td>\n",
       "      <td>44.0</td>\n",
       "      <td>15.0</td>\n",
       "      <td>2.0</td>\n",
       "      <td>123.0</td>\n",
       "      <td>44.0</td>\n",
       "      <td>45.0</td>\n",
       "    </tr>\n",
       "    <tr>\n",
       "      <th>4</th>\n",
       "      <td>5</td>\n",
       "      <td>901141.58</td>\n",
       "      <td>1001075.16</td>\n",
       "      <td>1198675</td>\n",
       "      <td>337</td>\n",
       "      <td>466</td>\n",
       "      <td>4.077824</td>\n",
       "      <td>43.0</td>\n",
       "      <td>7.0</td>\n",
       "      <td>11.0</td>\n",
       "      <td>...</td>\n",
       "      <td>37.0</td>\n",
       "      <td>0.0</td>\n",
       "      <td>79.0</td>\n",
       "      <td>0.0</td>\n",
       "      <td>38.0</td>\n",
       "      <td>15.0</td>\n",
       "      <td>2.0</td>\n",
       "      <td>103.0</td>\n",
       "      <td>36.0</td>\n",
       "      <td>36.0</td>\n",
       "    </tr>\n",
       "  </tbody>\n",
       "</table>\n",
       "<p>5 rows × 36 columns</p>\n",
       "</div>"
      ],
      "text/plain": [
       "   week  checkout_price  base_price  num_orders  emailer_for_promotion  \\\n",
       "0     1       965809.26  1018365.32      792261                    357   \n",
       "1     2       938092.43  1005779.20      787084                    621   \n",
       "2     3       948560.28  1008352.05      695262                    104   \n",
       "3     4       953833.69  1006446.90      743529                      0   \n",
       "4     5       901141.58  1001075.16     1198675                    337   \n",
       "\n",
       "   homepage_featured   op_area  Beverages  Biryani  Desert   ...    region2  \\\n",
       "0                414  4.079877       55.0      4.0    15.0   ...       45.0   \n",
       "1                514  4.085014       55.0      8.0    17.0   ...       48.0   \n",
       "2                316  4.078682       58.0      9.0    17.0   ...       48.0   \n",
       "3                292  4.087747       54.0      9.0    13.0   ...       47.0   \n",
       "4                466  4.077824       43.0      7.0    11.0   ...       37.0   \n",
       "\n",
       "   region3  region4  region5  region6  region7  region8  TYPE_A  TYPE_B  \\\n",
       "0      4.0     99.0      3.0     44.0     17.0      2.0   128.0    45.0   \n",
       "1      4.0     96.0      3.0     45.0     16.0      2.0   127.0    45.0   \n",
       "2      3.0     97.0      3.0     44.0     16.0      2.0   127.0    45.0   \n",
       "3      3.0     95.0      2.0     44.0     15.0      2.0   123.0    44.0   \n",
       "4      0.0     79.0      0.0     38.0     15.0      2.0   103.0    36.0   \n",
       "\n",
       "   TYPE_C  \n",
       "0    45.0  \n",
       "1    46.0  \n",
       "2    45.0  \n",
       "3    45.0  \n",
       "4    36.0  \n",
       "\n",
       "[5 rows x 36 columns]"
      ]
     },
     "execution_count": 40,
     "metadata": {},
     "output_type": "execute_result"
    }
   ],
   "source": [
    "df_1.head(5)"
   ]
  },
  {
   "cell_type": "code",
   "execution_count": 21,
   "metadata": {},
   "outputs": [
    {
     "data": {
      "text/plain": [
       "Index(['id', 'week', 'checkout_price', 'base_price', 'emailer_for_promotion',\n",
       "       'homepage_featured', 'num_orders', 'op_area', 'Beverages', 'Biryani',\n",
       "       'Desert', 'Extras', 'Fish', 'Other Snacks', 'Pasta', 'Pizza',\n",
       "       'Rice Bowl', 'Salad', 'Sandwich', 'Seafood', 'Soup', 'Starters',\n",
       "       'Continental', 'Indian', 'Italian', 'Thai', 'city1', 'city10', 'city11',\n",
       "       'city12', 'city13', 'city14', 'city15', 'city16', 'city17', 'city18',\n",
       "       'city19', 'city2', 'city20', 'city21', 'city22', 'city23', 'city24',\n",
       "       'city25', 'city26', 'city27', 'city28', 'city29', 'city3', 'city30',\n",
       "       'city31', 'city32', 'city33', 'city34', 'city35', 'city36', 'city37',\n",
       "       'city38', 'city39', 'city4', 'city40', 'city41', 'city42', 'city43',\n",
       "       'city44', 'city45', 'city46', 'city47', 'city48', 'city49', 'city5',\n",
       "       'city50', 'city51', 'city6', 'city7', 'city8', 'city9', 'region1',\n",
       "       'region2', 'region3', 'region4', 'region5', 'region6', 'region7',\n",
       "       'region8', 'TYPE_A', 'TYPE_B', 'TYPE_C'],\n",
       "      dtype='object')"
      ]
     },
     "execution_count": 21,
     "metadata": {},
     "output_type": "execute_result"
    }
   ],
   "source": [
    "df.columns"
   ]
  },
  {
   "cell_type": "code",
   "execution_count": 33,
   "metadata": {},
   "outputs": [],
   "source": [
    "features_region = ['region1','region2', 'region3', 'region4', 'region5', 'region6', 'region7','region8']\n",
    "features_city = ['city1', 'city10', 'city11',\n",
    "       'city12', 'city13', 'city14', 'city15', 'city16', 'city17', 'city18',\n",
    "       'city19', 'city2', 'city20', 'city21', 'city22', 'city23', 'city24',\n",
    "       'city25', 'city26', 'city27', 'city28', 'city29', 'city3', 'city30',\n",
    "       'city31', 'city32', 'city33', 'city34', 'city35', 'city36', 'city37',\n",
    "       'city38', 'city39', 'city4', 'city40', 'city41', 'city42', 'city43',\n",
    "       'city44', 'city45', 'city46', 'city47', 'city48', 'city49', 'city5',\n",
    "       'city50', 'city51', 'city6', 'city7', 'city8']\n",
    "features_cuisine = [ 'Continental', 'Indian', 'Italian', 'Thai']\n",
    "features_dishes = ['Beverages', 'Biryani',\n",
    "       'Desert', 'Extras', 'Fish', 'Other Snacks', 'Pasta', 'Pizza',\n",
    "       'Rice Bowl', 'Salad', 'Sandwich', 'Seafood', 'Soup', 'Starters',]"
   ]
  },
  {
   "cell_type": "code",
   "execution_count": 10,
   "metadata": {},
   "outputs": [],
   "source": [
    "# Variable\n",
    "# Definition\n",
    "# id - Unique ID\n",
    "# week - Week No\n",
    "# center_id - Unique ID for fulfillment center\n",
    "# meal_id - Unique ID for Meal\n",
    "# checkout_price - Final price including discount, taxes & delivery charges \n",
    "# base_price - Base price of the meal \n",
    "# emailer_for_promotion - Email sent for promotion of meal \n",
    "# homepage_featured - Meal featured at homepage\n",
    "# num_orders - (Target) Orders Count\n",
    "# city_code  - Unique code for city \n",
    "# region_code- Unique code for region\n",
    "# center_type -Anonymized center type\n",
    "# op_area - Area of operation (in km^2)\n",
    "# category -Type of meal (beverages/snacks/soups....)\n",
    "# cuisine - Meal cuisine (Indian/Italian/...)"
   ]
  },
  {
   "cell_type": "code",
   "execution_count": 31,
   "metadata": {},
   "outputs": [
    {
     "data": {
      "text/plain": [
       "(456548, 88)"
      ]
     },
     "execution_count": 31,
     "metadata": {},
     "output_type": "execute_result"
    }
   ],
   "source": [
    "df.shape"
   ]
  },
  {
   "cell_type": "code",
   "execution_count": 32,
   "metadata": {},
   "outputs": [
    {
     "data": {
      "text/plain": [
       "145"
      ]
     },
     "execution_count": 32,
     "metadata": {},
     "output_type": "execute_result"
    }
   ],
   "source": [
    "len(df.week.unique())"
   ]
  },
  {
   "cell_type": "code",
   "execution_count": 92,
   "metadata": {},
   "outputs": [],
   "source": [
    "# Questions to answer -\n",
    "# 1. Number of orders/week\n",
    "# 2. Orders/region\n",
    "# 3. Popular cuisine\n",
    "# 3. Popular Food\n",
    "# 4. Popular cities\n",
    "# 5. Correlation between area and order "
   ]
  },
  {
   "cell_type": "markdown",
   "metadata": {},
   "source": [
    "### Number of order per week"
   ]
  },
  {
   "cell_type": "code",
   "execution_count": 9,
   "metadata": {},
   "outputs": [
    {
     "data": {
      "image/png": "[encoded data removed]",
      "text/plain": [
       "<Figure size 432x288 with 1 Axes>"
      ]
     },
     "metadata": {
      "needs_background": "light"
     },
     "output_type": "display_data"
    }
   ],
   "source": [
    "ax = sns.lineplot(x=\"week\", y=\"num_orders\", data=df_1)"
   ]
  },
  {
   "cell_type": "markdown",
   "metadata": {},
   "source": [
    "### Orders per region"
   ]
  },
  {
   "cell_type": "code",
   "execution_count": 58,
   "metadata": {},
   "outputs": [
    {
     "data": {
      "image/png": "[encoded data removed]",
      "text/plain": [
       "<Figure size 432x288 with 1 Axes>"
      ]
     },
     "metadata": {
      "needs_background": "light"
     },
     "output_type": "display_data"
    }
   ],
   "source": [
    "m = df[features_region].sum(axis=0).to_frame().reset_index().rename(columns={0: 'Count','index': 'Region'})\n",
    "ax = sns.scatterplot(x='Region',y='Count',data=m)"
   ]
  },
  {
   "cell_type": "markdown",
   "metadata": {},
   "source": [
    "Region 4 has highest orders "
   ]
  },
  {
   "cell_type": "markdown",
   "metadata": {},
   "source": [
    "### Popular cuisine  "
   ]
  },
  {
   "cell_type": "code",
   "execution_count": 74,
   "metadata": {
    "scrolled": true
   },
   "outputs": [
    {
     "data": {
      "image/png": "[encoded data removed]",
      "text/plain": [
       "<Figure size 432x288 with 1 Axes>"
      ]
     },
     "metadata": {
      "needs_background": "light"
     },
     "output_type": "display_data"
    }
   ],
   "source": [
    "m =df[features_cuisine].sum(axis=0).to_frame().reset_index().rename(columns={0: 'Count','index': 'Cuisine'})\n",
    "ax = sns.scatterplot(x='Cuisine',y='Count',data=m)"
   ]
  },
  {
   "cell_type": "markdown",
   "metadata": {},
   "source": [
    "Italian has the highest number of orders"
   ]
  },
  {
   "cell_type": "markdown",
   "metadata": {},
   "source": [
    "### Popular food"
   ]
  },
  {
   "cell_type": "code",
   "execution_count": 72,
   "metadata": {},
   "outputs": [
    {
     "data": {
      "text/html": [
       "<div>\n",
       "<style scoped>\n",
       "    .dataframe tbody tr th:only-of-type {\n",
       "        vertical-align: middle;\n",
       "    }\n",
       "\n",
       "    .dataframe tbody tr th {\n",
       "        vertical-align: top;\n",
       "    }\n",
       "\n",
       "    .dataframe thead th {\n",
       "        text-align: right;\n",
       "    }\n",
       "</style>\n",
       "<table border=\"1\" class=\"dataframe\">\n",
       "  <thead>\n",
       "    <tr style=\"text-align: right;\">\n",
       "      <th></th>\n",
       "      <th>Food</th>\n",
       "      <th>Count</th>\n",
       "    </tr>\n",
       "  </thead>\n",
       "  <tbody>\n",
       "    <tr>\n",
       "      <th>0</th>\n",
       "      <td>Beverages</td>\n",
       "      <td>8891.0</td>\n",
       "    </tr>\n",
       "    <tr>\n",
       "      <th>8</th>\n",
       "      <td>Rice Bowl</td>\n",
       "      <td>2309.0</td>\n",
       "    </tr>\n",
       "    <tr>\n",
       "      <th>9</th>\n",
       "      <td>Salad</td>\n",
       "      <td>2309.0</td>\n",
       "    </tr>\n",
       "    <tr>\n",
       "      <th>10</th>\n",
       "      <td>Sandwich</td>\n",
       "      <td>2308.0</td>\n",
       "    </tr>\n",
       "    <tr>\n",
       "      <th>7</th>\n",
       "      <td>Pizza</td>\n",
       "      <td>2306.0</td>\n",
       "    </tr>\n",
       "    <tr>\n",
       "      <th>2</th>\n",
       "      <td>Desert</td>\n",
       "      <td>2113.0</td>\n",
       "    </tr>\n",
       "    <tr>\n",
       "      <th>5</th>\n",
       "      <td>Other Snacks</td>\n",
       "      <td>2104.0</td>\n",
       "    </tr>\n",
       "    <tr>\n",
       "      <th>13</th>\n",
       "      <td>Starters</td>\n",
       "      <td>1984.0</td>\n",
       "    </tr>\n",
       "    <tr>\n",
       "      <th>6</th>\n",
       "      <td>Pasta</td>\n",
       "      <td>1927.0</td>\n",
       "    </tr>\n",
       "    <tr>\n",
       "      <th>11</th>\n",
       "      <td>Seafood</td>\n",
       "      <td>1697.0</td>\n",
       "    </tr>\n",
       "    <tr>\n",
       "      <th>1</th>\n",
       "      <td>Biryani</td>\n",
       "      <td>1337.0</td>\n",
       "    </tr>\n",
       "    <tr>\n",
       "      <th>4</th>\n",
       "      <td>Fish</td>\n",
       "      <td>1331.0</td>\n",
       "    </tr>\n",
       "    <tr>\n",
       "      <th>3</th>\n",
       "      <td>Extras</td>\n",
       "      <td>992.0</td>\n",
       "    </tr>\n",
       "    <tr>\n",
       "      <th>12</th>\n",
       "      <td>Soup</td>\n",
       "      <td>965.0</td>\n",
       "    </tr>\n",
       "  </tbody>\n",
       "</table>\n",
       "</div>"
      ],
      "text/plain": [
       "            Food   Count\n",
       "0      Beverages  8891.0\n",
       "8      Rice Bowl  2309.0\n",
       "9          Salad  2309.0\n",
       "10      Sandwich  2308.0\n",
       "7          Pizza  2306.0\n",
       "2         Desert  2113.0\n",
       "5   Other Snacks  2104.0\n",
       "13      Starters  1984.0\n",
       "6          Pasta  1927.0\n",
       "11       Seafood  1697.0\n",
       "1        Biryani  1337.0\n",
       "4           Fish  1331.0\n",
       "3         Extras   992.0\n",
       "12          Soup   965.0"
      ]
     },
     "execution_count": 72,
     "metadata": {},
     "output_type": "execute_result"
    }
   ],
   "source": [
    "df[features_dishes].sum(axis=0).to_frame().reset_index().rename(columns={0: 'Count','index': 'Food'}).sort_values(by='Count',ascending =False)"
   ]
  },
  {
   "cell_type": "markdown",
   "metadata": {},
   "source": [
    "Beverages are mostly ordered a lot, followed by Rice Bowl, Salad and Sandwich"
   ]
  },
  {
   "cell_type": "markdown",
   "metadata": {},
   "source": [
    "### Popular Cities"
   ]
  },
  {
   "cell_type": "code",
   "execution_count": 76,
   "metadata": {},
   "outputs": [
    {
     "data": {
      "text/html": [
       "<div>\n",
       "<style scoped>\n",
       "    .dataframe tbody tr th:only-of-type {\n",
       "        vertical-align: middle;\n",
       "    }\n",
       "\n",
       "    .dataframe tbody tr th {\n",
       "        vertical-align: top;\n",
       "    }\n",
       "\n",
       "    .dataframe thead th {\n",
       "        text-align: right;\n",
       "    }\n",
       "</style>\n",
       "<table border=\"1\" class=\"dataframe\">\n",
       "  <thead>\n",
       "    <tr style=\"text-align: right;\">\n",
       "      <th></th>\n",
       "      <th>City</th>\n",
       "      <th>Count</th>\n",
       "    </tr>\n",
       "  </thead>\n",
       "  <tbody>\n",
       "    <tr>\n",
       "      <th>9</th>\n",
       "      <td>city18</td>\n",
       "      <td>3962.0</td>\n",
       "    </tr>\n",
       "    <tr>\n",
       "      <th>23</th>\n",
       "      <td>city30</td>\n",
       "      <td>1436.0</td>\n",
       "    </tr>\n",
       "    <tr>\n",
       "      <th>49</th>\n",
       "      <td>city8</td>\n",
       "      <td>971.0</td>\n",
       "    </tr>\n",
       "    <tr>\n",
       "      <th>48</th>\n",
       "      <td>city7</td>\n",
       "      <td>930.0</td>\n",
       "    </tr>\n",
       "    <tr>\n",
       "      <th>15</th>\n",
       "      <td>city23</td>\n",
       "      <td>927.0</td>\n",
       "    </tr>\n",
       "  </tbody>\n",
       "</table>\n",
       "</div>"
      ],
      "text/plain": [
       "      City   Count\n",
       "9   city18  3962.0\n",
       "23  city30  1436.0\n",
       "49   city8   971.0\n",
       "48   city7   930.0\n",
       "15  city23   927.0"
      ]
     },
     "execution_count": 76,
     "metadata": {},
     "output_type": "execute_result"
    }
   ],
   "source": [
    "df[features_city].sum(axis=0).to_frame().reset_index().rename(columns={0: 'Count','index': 'City'}).sort_values(by='Count',ascending =False).head(5)"
   ]
  },
  {
   "cell_type": "markdown",
   "metadata": {},
   "source": [
    "City18 residents order a lot!"
   ]
  },
  {
   "cell_type": "code",
   "execution_count": 80,
   "metadata": {},
   "outputs": [
    {
     "data": {
      "text/html": [
       "<div>\n",
       "<style scoped>\n",
       "    .dataframe tbody tr th:only-of-type {\n",
       "        vertical-align: middle;\n",
       "    }\n",
       "\n",
       "    .dataframe tbody tr th {\n",
       "        vertical-align: top;\n",
       "    }\n",
       "\n",
       "    .dataframe thead th {\n",
       "        text-align: right;\n",
       "    }\n",
       "</style>\n",
       "<table border=\"1\" class=\"dataframe\">\n",
       "  <thead>\n",
       "    <tr style=\"text-align: right;\">\n",
       "      <th></th>\n",
       "      <th>num_orders</th>\n",
       "      <th>emailer_for_promotion</th>\n",
       "    </tr>\n",
       "  </thead>\n",
       "  <tbody>\n",
       "    <tr>\n",
       "      <th>num_orders</th>\n",
       "      <td>1.000000</td>\n",
       "      <td>0.484683</td>\n",
       "    </tr>\n",
       "    <tr>\n",
       "      <th>emailer_for_promotion</th>\n",
       "      <td>0.484683</td>\n",
       "      <td>1.000000</td>\n",
       "    </tr>\n",
       "  </tbody>\n",
       "</table>\n",
       "</div>"
      ],
      "text/plain": [
       "                       num_orders  emailer_for_promotion\n",
       "num_orders               1.000000               0.484683\n",
       "emailer_for_promotion    0.484683               1.000000"
      ]
     },
     "execution_count": 80,
     "metadata": {},
     "output_type": "execute_result"
    }
   ],
   "source": [
    "df_1[['num_orders','emailer_for_promotion']].corr()"
   ]
  },
  {
   "cell_type": "markdown",
   "metadata": {},
   "source": [
    "Number of Orders and emailing for promotion have a correlation of 0.48"
   ]
  },
  {
   "cell_type": "code",
   "execution_count": 83,
   "metadata": {},
   "outputs": [
    {
     "data": {
      "text/html": [
       "<div>\n",
       "<style scoped>\n",
       "    .dataframe tbody tr th:only-of-type {\n",
       "        vertical-align: middle;\n",
       "    }\n",
       "\n",
       "    .dataframe tbody tr th {\n",
       "        vertical-align: top;\n",
       "    }\n",
       "\n",
       "    .dataframe thead th {\n",
       "        text-align: right;\n",
       "    }\n",
       "</style>\n",
       "<table border=\"1\" class=\"dataframe\">\n",
       "  <thead>\n",
       "    <tr style=\"text-align: right;\">\n",
       "      <th></th>\n",
       "      <th>num_orders</th>\n",
       "      <th>homepage_featured</th>\n",
       "    </tr>\n",
       "  </thead>\n",
       "  <tbody>\n",
       "    <tr>\n",
       "      <th>num_orders</th>\n",
       "      <td>1.000000</td>\n",
       "      <td>0.477732</td>\n",
       "    </tr>\n",
       "    <tr>\n",
       "      <th>homepage_featured</th>\n",
       "      <td>0.477732</td>\n",
       "      <td>1.000000</td>\n",
       "    </tr>\n",
       "  </tbody>\n",
       "</table>\n",
       "</div>"
      ],
      "text/plain": [
       "                   num_orders  homepage_featured\n",
       "num_orders           1.000000           0.477732\n",
       "homepage_featured    0.477732           1.000000"
      ]
     },
     "execution_count": 83,
     "metadata": {},
     "output_type": "execute_result"
    }
   ],
   "source": [
    "df_1[['num_orders','homepage_featured']].corr()"
   ]
  }
 ],
 "metadata": {
  "kernelspec": {
   "display_name": "Python 3",
   "language": "python",
   "name": "python3"
  },
  "language_info": {
   "codemirror_mode": {
    "name": "ipython",
    "version": 3
   },
   "file_extension": ".py",
   "mimetype": "text/x-python",
   "name": "python",
   "nbconvert_exporter": "python",
   "pygments_lexer": "ipython3",
   "version": "3.7.1"
  }
 },
 "nbformat": 4,
 "nbformat_minor": 2
}
